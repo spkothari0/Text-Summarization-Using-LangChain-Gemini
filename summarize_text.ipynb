{
 "cells": [
  {
   "cell_type": "markdown",
   "metadata": {},
   "source": [
    "## Text Summarization Using Langchain "
   ]
  },
  {
   "cell_type": "code",
   "execution_count": 2,
   "metadata": {},
   "outputs": [
    {
     "data": {
      "text/plain": [
       "True"
      ]
     },
     "execution_count": 2,
     "metadata": {},
     "output_type": "execute_result"
    }
   ],
   "source": [
    "import os\n",
    "from dotenv import load_dotenv\n",
    "load_dotenv()\n"
   ]
  },
  {
   "cell_type": "code",
   "execution_count": 3,
   "metadata": {},
   "outputs": [
    {
     "name": "stderr",
     "output_type": "stream",
     "text": [
      "c:\\Users\\spkot\\AppData\\Local\\pypoetry\\Cache\\virtualenvs\\langchain-text-summery-ujZDWB_j-py3.11\\Lib\\site-packages\\tqdm\\auto.py:21: TqdmWarning: IProgress not found. Please update jupyter and ipywidgets. See https://ipywidgets.readthedocs.io/en/stable/user_install.html\n",
      "  from .autonotebook import tqdm as notebook_tqdm\n"
     ]
    }
   ],
   "source": [
    "## Basic Prompt Summarization\n",
    "from langchain_google_genai import ChatGoogleGenerativeAI\n",
    "from langchain.schema import(\n",
    "    AIMessage,\n",
    "    HumanMessage,\n",
    "    SystemMessage\n",
    ")"
   ]
  },
  {
   "cell_type": "code",
   "execution_count": 4,
   "metadata": {},
   "outputs": [],
   "source": [
    "speech=\"\"\"\n",
    "People across the country, involved in government, political, and social activities, are dedicating their time to make the ‘Viksit Bharat Sankalp Yatra’ (Developed India Resolution Journey) successful. Therefore, as a Member of Parliament, it was my responsibility to also contribute my time to this program. So, today, I have come here just as a Member of Parliament and your ‘sevak’, ready to participate in this program, much like you.\n",
    "\n",
    "In our country, governments have come and gone, numerous schemes have been formulated, discussions have taken place, and big promises have been made. However, my experience and observations led me to believe that the most critical aspect that requires attention is ensuring that the government’s plans reach the intended beneficiaries without any hassles. If there is a ‘Pradhan Mantri Awas Yojana’ (Prime Minister’s housing scheme), then those who are living in jhuggis and slums should get their houses. And he should not need to make rounds of the government offices for this purpose. The government should reach him. Since you have assigned this responsibility to me, about four crore families have got their ‘pucca’ houses. However, I have encountered cases where someone is left out of the government benefits. Therefore, I have decided to tour the country again, to listen to people’s experiences with government schemes, to understand whether they received the intended benefits, and to ensure that the programs are reaching everyone as planned without paying any bribes. We will get the real picture if we visit them again. Therefore, this ‘Viksit Bharat Sankalp Yatra’ is, in a way, my own examination. I want to hear from you and the people across the country whether what I envisioned and the work I have been doing aligns with reality and whether it has reached those for whom it was meant.\n",
    "\n",
    "It is crucial to check whether the work that was supposed to happen has indeed taken place. I recently met some individuals who utilized the Ayushman card to get treatment for serious illnesses. One person met with a severe accident, and after using the card, he could afford the necessary operation, and now he is recovering well. When I asked him, he said: “How could I afford this treatment? Now that there is the Ayushman card, I mustered courage and underwent an operation. Now I am perfectly fine.”  Such stories are blessings to me.\n",
    "\n",
    "The bureaucrats, who prepare good schemes, expedite the paperwork and even allocate funds, also feel satisfied that 50 or 100 people who were supposed to get the funds have got it. The funds meant for a thousand villages have been released. But their job satisfaction peaks when they hear that their work has directly impacted someone’s life positively. When they see the tangible results of their efforts, their enthusiasm multiplies. They feel satisfied. Therefore, ‘Viksit Bharat Sankalp Yatra’ has had a positive impact on government officers. It has made them more enthusiastic about their work, especially when they witness the tangible benefits reaching the people. Officers now feel satisfied with their work, saying, “I made a good plan, I created a file, and the intended beneficiaries received the benefits.” When they find that the money has reached a poor widow under the Jeevan Jyoti scheme and it was a great help to her during her crisis, they realise that they have done a good job. When a government officer listens to such stories, he feels very satisfied.\n",
    "\n",
    "There are very few who understand the power and impact of the ‘Viksit Bharat Sankalp Yatra’. When I hear people connected to bureaucratic circles talking about it, expressing their satisfaction, it resonates with me. I’ve heard stories where someone suddenly received 2 lakh rupees after the death of her husband, and a sister mentioned how the arrival of gas in her home transformed her lives. The most significant aspect is when someone says that the line between rich and poor has vanished. While the slogan ‘Garibi Hatao’ (Remove Poverty) is one thing, but the real change happens when a person says, “As soon as the gas stove came to my house, the distinction between poverty and affluence disappeared.\n",
    "\"\"\""
   ]
  },
  {
   "cell_type": "code",
   "execution_count": 5,
   "metadata": {},
   "outputs": [],
   "source": [
    "chat_messages=[\n",
    "    HumanMessage(content='Remember taht your system is an expert assistant with expertize in summarizing speeches'),\n",
    "    HumanMessage(content=f'Please provide a short and concise summary of the following speech:\\n TEXT: {speech}')\n",
    "]\n",
    "\n",
    "llm=ChatGoogleGenerativeAI(model=\"gemini-pro\")\n"
   ]
  },
  {
   "cell_type": "code",
   "execution_count": 6,
   "metadata": {},
   "outputs": [],
   "source": [
    "# llm(chat_messages).content  #other way to call the invoke method"
   ]
  },
  {
   "cell_type": "code",
   "execution_count": 7,
   "metadata": {},
   "outputs": [
    {
     "name": "stdout",
     "output_type": "stream",
     "text": [
      "The speaker, a Member of Parliament, emphasizes the importance of government programs reaching their intended beneficiaries without hassle. Through the \"Viksit Bharat Sankalp Yatra\" (Developed India Resolution Journey), the speaker aims to assess the effectiveness of government schemes and ensure that they are benefiting those they are intended for. The speaker highlights positive stories of individuals who have benefited from schemes such as Ayushman card and Jeevan Jyoti, and emphasizes that the program has motivated government officers to work more enthusiastically.\n"
     ]
    }
   ],
   "source": [
    "##get_summary\n",
    "print(llm.invoke(chat_messages).content)"
   ]
  },
  {
   "cell_type": "markdown",
   "metadata": {},
   "source": [
    "## Prompt Templates Text Summarization"
   ]
  },
  {
   "cell_type": "code",
   "execution_count": 8,
   "metadata": {},
   "outputs": [],
   "source": [
    "\n",
    "from langchain.prompts import PromptTemplate"
   ]
  },
  {
   "cell_type": "code",
   "execution_count": 34,
   "metadata": {},
   "outputs": [],
   "source": [
    "generic_template='''\n",
    "Write a summary of the following speech:\n",
    "Speech : `{speech}`\n",
    "Translate the precise summary to {language}.\n",
    "\n",
    "'''\n",
    "prompt=PromptTemplate(\n",
    "    input_variables=['speech','language'],\n",
    "    template=generic_template\n",
    ")"
   ]
  },
  {
   "cell_type": "code",
   "execution_count": 35,
   "metadata": {},
   "outputs": [],
   "source": [
    "llm_chain= prompt | llm\n",
    "summary=llm_chain.invoke({'speech':speech,'language':'hindi'})"
   ]
  },
  {
   "cell_type": "code",
   "execution_count": 36,
   "metadata": {},
   "outputs": [
    {
     "data": {
      "text/plain": [
       "AIMessage(content=' देश भर में सरकारी, राजनीतिक और सामाजिक गतिविधियों में शामिल लोग \\'विकसित भारत संकल्प यात्रा\\' को सफल बनाने के लिए अपना समय समर्पित कर रहे हैं। इसलिए, एक संसद सदस्य के रूप में, इस कार्यक्रम में अपना समय देना भी मेरी जिम्मेदारी थी। इसलिए, आज मैं यहां एक संसद सदस्य और आपके \\'सेवक\\' के रूप में आया हूं, इस कार्यक्रम में आपकी तरह भाग लेने के लिए तैयार हूं।\\n\\nहमारे देश में, सरकारें आईं और गईं, कई योजनाएँ बनाई गईं, चर्चाएँ हुईं और बड़े वादे किए गए। हालाँकि, मेरे अनुभव और टिप्पणियों ने मुझे यह विश्वास दिलाया कि सबसे महत्वपूर्ण पहलू जिस पर ध्यान देने की आवश्यकता है, वह यह सुनिश्चित करना है कि सरकार की योजनाएँ बिना किसी परेशानी के इच्छित लाभार्थियों तक पहुँचें। यदि \\'प्रधान मंत्री आवास योजना\\' है, तो झुग्गियों और मलिन बस्तियों में रहने वालों को अपना घर मिलना चाहिए। और इसके लिए उसे सरकारी दफ्तरों के चक्कर काटने की जरूरत नहीं पड़नी चाहिए। सरकार को उसके पास पहुंचना चाहिए। चूंकि आपने मुझे यह जिम्मेदारी सौंपी है, इसलिए लगभग चार करोड़ परिवारों को उनके \\'पक्के\\' घर मिल गए हैं। हालाँकि, मैंने ऐसे मामले देखे हैं जहाँ कोई सरकारी लाभों से वंचित रह जाता है। इसलिए, मैंने देश का फिर से दौरा करने का फैसला किया है, ताकि सरकारी योजनाओं के साथ लोगों के अनुभवों को सुन सकूं, यह समझ सकूं कि उन्हें इच्छित लाभ मिले या नहीं, और यह सुनिश्चित कर सकूं कि कार्यक्रम बिना किसी रिश्वत का भुगतान किए सभी तक पहुँच रहे हैं। अगर हम उनसे दोबारा मिलेंगे तो हमें असली तस्वीर मिलेगी। इसलिए, यह \\'विकसित भारत संकल्प यात्रा\\' एक तरह से मेरी अपनी परीक्षा है। मैं आपसे और देश भर के लोगों से सुनना चाहता हूं कि मैंने जो परिकल्पना की और जो काम मैं कर रहा हूं वह वास्तविकता से मेल खाता है या नहीं और क्या यह उन लोगों तक पहुंचा है जिनके लिए यह था।\\n\\nयह जांचना महत्वपूर्ण है कि जो काम होना था वह वास्तव में हुआ है या नहीं। मैं हाल ही में कुछ ऐसे लोगों से मिला, जिन्होंने गंभीर बीमारियों के इलाज के लिए आयुष्मान कार्ड का इस्तेमाल किया। एक व्यक्ति का एक गंभीर दुर्घटना हुई, और कार्ड का उपयोग करने के बाद, वह आवश्यक ऑपरेशन का खर्च उठा सका, और अब वह अच्छी तरह से ठीक हो रहा है। जब मैंने उनसे पूछा, तो उन्होंने कहा: \"मैं इस इलाज का खर्च कैसे उठा सकता था? अब जबकि आयुष्मान कार्ड है, मैंने हिम्मत जुटाई और ऑपरेशन करवाया। अब मैं बिल्कुल ठीक हूं।\" ऐसी कहानियाँ मेरे लिए आशीर्वाद हैं।\\n\\nअच्छी योजनाएँ तैयार करने वाले, कागजी कार्रवाई में तेजी लाने वाले और फंड आवंटित करने वाले नौकरशाह भी संतुष्ट महसूस करते हैं कि 50 या 100 लोगों को जो फंड मिलने थे, उन्हें मिल गए हैं। एक हजार गांवों के लिए धनराशि जारी कर दी गई है। लेकिन उनकी नौकरी की संतुष्टि तब चरम पर होती है जब वे सुनते हैं कि उनके काम ने किसी के जीवन को सकारात्मक रूप से प्रभावित किया है। जब वे अपने प्रयासों के ठोस परिणाम देखते हैं, तो उनका उत्साह कई गुना बढ़ जाता है। वे संतुष्ट महसूस करते हैं। इसलिए, \\'विकसित भारत संकल्प यात्रा\\' का सरकारी अधिकारियों पर सकारात्मक प्रभाव पड़ा है। लोगों तक ठोस लाभ पहुंचते देखने पर इसने उन्हें अपने काम के प्रति और अधिक उत्साही बना दिया है। अधिकारी अब अपने काम से संतुष्ट महसूस करते हुए कहते हैं, \"मैंने एक अच्छी योजना बनाई, मैंने एक फाइल बनाई और इच्छित लाभार्थियों को लाभ मिले।\" जब वे पाते हैं कि जीवन ज्योति योजना के तहत पैसा एक गरीब विधवा तक पहुँच गया है और यह उसके संकट के समय उसकी बहुत मदद करता है, तो उन्हें एहसास होता है कि उन्होंने अच्छा काम किया है। जब कोई सरकारी अधिकारी ऐसी कहानियाँ सुनता है तो उसे बहुत संतुष्टि मिलती है।\\n\\nबहुत कम लोग \\'विकसित भारत संकल्प यात्रा\\' की शक्ति और प्रभाव को समझते हैं। जब मैं नौकरशाही हलकों से जुड़े लोगों को इसके बारे में बात करते सुनता हूं, अपनी संतुष्टि व्यक्त करते हुए, तो मुझे यह अच्छा लगता है। मैंने ऐसी कहानियाँ सुनी हैं जहाँ किसी को अचानक अपने पति की मृत्यु के बाद 2 लाख रुपये मिले, और एक बहन ने बताया कि उसके घर में गैस आने से उसकी ज़िंदगी कैसे बदल गई। सबसे महत्वपूर्ण पहलू तब होता है जब कोई कहता है कि अमीर और गरीब के बीच की रेखा गायब हो गई है। जबकि नारा \\'गरीबी हटाओ\\' (गरीबी हटाओ) एक बात है, लेकिन असली बदलाव तब होता है जब कोई कहता है, \"जैसे ही मेरे घर में गैस स्टोव आया, गरीबी और समृद्धि के बीच का अंतर गायब हो गया।\"', response_metadata={'prompt_feedback': {'block_reason': 0, 'safety_ratings': []}, 'finish_reason': 'STOP', 'safety_ratings': [{'category': 'HARM_CATEGORY_SEXUALLY_EXPLICIT', 'probability': 'NEGLIGIBLE', 'blocked': False}, {'category': 'HARM_CATEGORY_HATE_SPEECH', 'probability': 'NEGLIGIBLE', 'blocked': False}, {'category': 'HARM_CATEGORY_HARASSMENT', 'probability': 'NEGLIGIBLE', 'blocked': False}, {'category': 'HARM_CATEGORY_DANGEROUS_CONTENT', 'probability': 'NEGLIGIBLE', 'blocked': False}]}, id='run-080e2b71-4f7a-4916-b354-021d7a59ded9-0', usage_metadata={'input_tokens': 877, 'output_tokens': 1294, 'total_tokens': 2171})"
      ]
     },
     "execution_count": 36,
     "metadata": {},
     "output_type": "execute_result"
    }
   ],
   "source": [
    "summary"
   ]
  },
  {
   "cell_type": "markdown",
   "metadata": {},
   "source": [
    "## StuffDocumentChain Text Summarization"
   ]
  },
  {
   "cell_type": "markdown",
   "metadata": {},
   "source": [
    "# Text Speech"
   ]
  },
  {
   "cell_type": "code",
   "execution_count": 37,
   "metadata": {},
   "outputs": [],
   "source": [
    "text = '''A P J Abdul Kalam Departing speech\n",
    "\n",
    "Friends, I am delighted to address you all, in the country and those living abroad, after\n",
    "working with you and completing five beautiful and eventful years in Rashtrapati Bhavan. Today, it is indeed a thanksgiving occasion. I would like to narrate, how I\n",
    "enjoyed every minute of my tenure enriched by the wonderful association from each one\n",
    "of you, hailing from different walks of life, be it politics, science and technology,\n",
    "academics, arts, literature, business, judiciary, administration, local bodies, farming,\n",
    "home makers, special children, media and above all from the youth and student\n",
    "community who are the future wealth of our country. During my interaction at\n",
    "Rashtrapati Bhavan in Delhi and at every state and union territory as well as through my\n",
    "online interactions, I have many unique experiences to share with you, which signify the\n",
    "following important messages:\n",
    "\n",
    "1. Accelerate development : Aspiration of the youth,\n",
    "2. Empower villages,\n",
    "3. Mobilize rural core competence for competitiveness,\n",
    "4. Seed to Food: Backbone for agricultural growth\n",
    "5. Defeat problems and succeed,\n",
    "6. Overcome problems through partnership,\n",
    "7. Courage in combating calamities,\n",
    "8. Connectivity for societal transformation,\n",
    "9. Defending the nation: Our pride and\n",
    "10. Youth movement for Developed India 2020.\n",
    "\n",
    "Now let me share with you each of the messages.\n",
    "\n",
    "Accelerate Development: Aspiration of the youth\n",
    "While there were many significant events during my tenure, a question from a little girl\n",
    "Anukriti of Sri Sathya Sai Jagriti Vidya Mandir School, of Darwa village from Haryana,\n",
    "during children’s visit to Rashtrapati Bhavan on May 22, 2006, rings in my mind ever\n",
    "after.\n",
    "\n",
    "Anukriti asked me “why India cannot become a developed nation before the year 2020”.\n",
    "I appreciated the question and said it was indeed a thoughtful question and assured her that\n",
    "that her dream would be taken to the highest institution of the nation and we would work for it to achieve before 2020. This question reflects how the desire to live in developed\n",
    "India has entered into the minds of the youth. The same feelings are echoed by over\n",
    "fifteen lakh youth, whom I have met so far and who represent the dream of the 540\n",
    "million youth of the nation. The aspirations of the young to live in a prosperous, safe and\n",
    "proud India should be the guiding factor in whatever profession we contribute.\n",
    "\n",
    "Empower Villages\n",
    "Friends, I recall my visit to Nagaland on 26th October 2002, soon after my assuming\n",
    "office as President. It was a unique experience for me at Khuza ma village to meet tribal\n",
    "village council members and discuss with them the village progress and the dream of\n",
    "village citizens. I was very happy to see the empowered village council functioning with\n",
    "financial powers and taking decisions. I saw a prosperous village with fruits and vegetables production. However, there is a need for providing physical connectivity in\n",
    "Nagaland through quality roads for enabling faster movement of products from villages\n",
    "to the market. That meeting gave me a powerful message about the transformation which\n",
    "can take place to the 600,000 villages of India, if all the villages are empowered to deal\n",
    "with their development and are well connected among themselves and with the urban\n",
    "societies.\n",
    "\n",
    "Mobilizing rural core competence for competitiveness\n",
    "Now I would like to talk about the initiative of Periyar Maniammai College of\n",
    "Technology for Women, Vallam, Tanjore of Providing Urban Amenities in Rural Areas\n",
    "(PURA) complex involving 65 villages with a population of 3 lakhs. This includes\n",
    "provision of three connectivities - physical, electronic and knowledge - leading to\n",
    "economic connectivity. Periyar PURA has health care centers, primary to post graduate\n",
    "level education and vocational training centers. This has resulted in large-scale\n",
    "employment generation and creation of number of entrepreneurs with the active support\n",
    "of 1000 self-help groups. Two hundred acres of waste land has been developed into a\n",
    "cultivable land. The villagers are busy in cultivation, planting Jatropha, herbal and\n",
    "medicinal plants, power generation using bio-mass, food processing and above all\n",
    "running marketing centers. It provides a sustainable economic development model for the\n",
    "whole region.\n",
    "\n",
    "During the last eight months, people of Periyar PURA villages technologically supported\n",
    "by Periyar Maniammai College of Engineering for Women have worked with experts\n",
    "from Japan External Trade Organisation (JETRO) on various products, for which core\n",
    "competence and raw material are available in Thanjavur district. They developed\n",
    "internationally competitive prototypes for 55 lifestyle products with support of JETRO\n",
    "specialists and feedback from exhibitions at Delhi and Tokyo. This cooperative venture\n",
    "has enhanced the innovative ability of the people of all the 65 villages enabling them to\n",
    "develop and produce internationally acceptable products. I have seen similar type of\n",
    "PURA being established in many states. The whole country needs 7000 PURA to\n",
    "bridging the rural – urban divide.\n",
    "\n",
    "Seed to Food: Backbone for agricultural growth\n",
    "Let me now share with you the enriching experience I had, while meeting more than\n",
    "6000 farmers from different States and Union Territories visiting Rashtrapati Bhavan.\n",
    "They evinced keen interest in the Mughal Gardens, the Herbal Gardens, the Spiritual\n",
    "Garden, the Musical Garden, the Bio-diesel garden and the Nutrition Garden and interact\n",
    "with the Horticultural specialists. Recently, during my address to the agricultural\n",
    "scientists while participating in a National Symposium on “Agriculture Cannot Wait”, I\n",
    "summarized the many practical suggestions given by farmers. We have to double the\n",
    "agricultural production with reduced land, reduced water resources and reduced\n",
    "manpower and improve the economic conditions of the nation through the principle of\n",
    "“Seed to Food” since agriculture is the backbone of the nation. We should empower the\n",
    "farmers to protect and nurture the fertile land for second green revolution. Meeting the\n",
    "Scientists and the Farmers has given me the confidence that the nation is poised to increase the agricultural GDP growth by at least 4% per annum through the partnership of farmers and agricultural scientists and industries particularly for value addition.\n",
    "\n",
    "Defeat the problems and succeed\n",
    "On the evening of February 24, 2007, at Coimbatore, I had a very beautiful experience.\n",
    "As I got ready for meeting the first person out of twenty appointments, a wheelchair was\n",
    "in sight with a smiling person probably in his late fifties; unfortunately he has no hands\n",
    "and legs. His radiant face was revealing his happy state of mind. He introduced himself\n",
    "as Vidwan Coimbatore SR Krishna Murthy. I greeted him and asked him how this had\n",
    "happened. He smilingly said that it was from birth. He thanked God, his parents,\n",
    "teachers and many others for giving him confidence, training and help. I asked him, what\n",
    "I could do for him? He said, “I don’t need anything from you. I would like to sing in front\n",
    "of you”. I readily agreed. He sang melodiously the Saint Thyagraja’s pancha ratna kriti\n",
    "entharo mahanubavulu in Sriragam giving me a glimpse of his talent. I was quite touched.\n",
    "What is the message? Despite being physically challenged, the latent talent of music\n",
    "could blossom in this person with his positive attitude and perseverance, encouraged by the parents, teachers, academics and rasikas. Now he wants to give, give and give his art to inspire others. Of course, by his merit of music, in July 2007, he performed in the Rashtrapati Bhavan art theatre.\n",
    "\n",
    "Overcome the impact of disaster through partnership\n",
    "I had the opportunity to experience the Indomitable Spirit of the people and children of\n",
    "Jammu & Kashmir even as they were just recovering from the devastating earthquake in\n",
    "2005. I visited Urusa village on 26th November 2005 which has been adopted by the\n",
    "Western Air Command, Air Force for providing relief and medical aid to the residents of\n",
    "that area. When I went there, I found that the school building had been severely damaged.\n",
    "I met all the school children and the village citizen of Urusa. The villagers apprised me of\n",
    "their losses and had all praise for Army and Air Force role in rescue and relief operations\n",
    "along with state government. I appreciate the courage of the people of Urusa in defeating\n",
    "their problems. They have actually become the master of the problem rather than\n",
    "allowing problems to become their master. Despite the severe loss due to the earthquake, the children and the members of the village participated in the relief operation with the Armed Forces bravely and were smiling when I went to meet them. They all wanted to return to their normal life as quickly as possible. The efforts of Armed Forces and the civil society have helped in accelerating the process of rehabilitation and reconstruction. This spirit should be carried forward to combat natural calamities through synergy in relief operations.\n",
    "\n",
    "Connectivity for societal transformation\n",
    "Let me share an experience about technology application for improving societal\n",
    "transformation. The experience of using the information and communication technology\n",
    "for improving societal transformation was visible during the last visit of President of\n",
    "Finland to India in October 2006. I had the privilege of hosting a discussion session\n",
    "with the President of Finland at Rashtrapati Bhavan. He shared with us the model of\n",
    "universal health care system of Finland. He said that in Finland, through tele-medicine\n",
    "approach, each patient has a direct connectivity with the medical center with the help of\n",
    "telemedicine technology. I felt that our country has a unique opportunity to adopt\n",
    "information technology tools like mobile phones and low cost laptops and internet\n",
    "technology to improve the health care services to the citizens in remote and far-flung\n",
    "areas. I have seen similar projects in operation like “tele-medicine project” at some of the\n",
    "villages, particularly at Bhathra Village of Chhattisgarh, where the villagers are now able\n",
    "to interact with specialists for treatment of patients. The experience in applying the\n",
    "technology to rural health care systems is being discussed in many States and is being\n",
    "replicated.\n",
    "\n",
    "Defending the nation: Our pride\n",
    "During my tenure, I had the opportunity to interact with the Armed Forces and\n",
    "Paramveer and Mahavir Chakra awardees. These war heroes have given their supreme\n",
    "sacrifices to protect the unity, integrity and sovereignty of our nation. The courage,\n",
    "valor and patriotism of these soldiers must be a source of inspiration to every Indian.\n",
    "The bravery of our armed forces, which exhibited in protecting the nation, is unparalleled\n",
    "and praiseworthy. The experience of meeting these national heroes was a very enriching\n",
    "and humbling experience.\n",
    "\n",
    "Youth movement for Developed India 2020\n",
    "I would like to close by talking about the youth movement. During the last five years, I\n",
    "have met the youth and students of all categories from all parts of the country. I have\n",
    "found their enthusiasm, courage, innovation and creativity in building a Developed India\n",
    "by the year 2020. It is our primary responsibility to facilitate their efforts and to\n",
    "continuously inspire and involve them in our journey of nation building. The youth\n",
    "movement should focus on improving the quality of education, ensuring better health\n",
    "care, strengthening of democratic institutions and empowering people to fight\n",
    "corruption. I am confident that with the collective efforts of the youth, the nation will\n",
    "achieve the goal of Developed India 2020.\n",
    "\n",
    "I thank all of you for the support, encouragement and cooperation during my tenure.\n",
    "I shall cherish these moments of my life forever and will always be available for any\n",
    "support or guidance you may need.\n",
    "\n",
    "Thank you.'''"
   ]
  },
  {
   "cell_type": "markdown",
   "metadata": {},
   "source": [
    "# Code Continued"
   ]
  },
  {
   "cell_type": "code",
   "execution_count": 38,
   "metadata": {},
   "outputs": [],
   "source": [
    "from langchain.docstore.document import Document"
   ]
  },
  {
   "cell_type": "code",
   "execution_count": 39,
   "metadata": {},
   "outputs": [],
   "source": [
    "docs = [Document(page_content=text)]\n",
    "# docs"
   ]
  },
  {
   "cell_type": "code",
   "execution_count": 15,
   "metadata": {},
   "outputs": [],
   "source": [
    "# llm = ChatOpenAI(temperature=0, model_name='gpt-3.5-turbo')"
   ]
  },
  {
   "cell_type": "code",
   "execution_count": 40,
   "metadata": {},
   "outputs": [],
   "source": [
    "from langchain import PromptTemplate\n",
    "from langchain.chains.summarize import load_summarize_chain\n",
    "from langchain.docstore.document import Document"
   ]
  },
  {
   "cell_type": "code",
   "execution_count": 41,
   "metadata": {},
   "outputs": [
    {
     "data": {
      "text/plain": [
       "'A P J Abdul Kalam Departing speech\\n\\nFriends, I am delighted to address you all, in the country and those living abroad, after\\nworking with you and completing five beautiful and eventful years in Rashtrapati Bhavan. Today, it is indeed a thanksgiving occasion. I would like to narrate, how I\\nenjoyed every minute of my tenure enriched by the wonderful association from each one\\nof you, hailing from different walks of life, be it politics, science and technology,\\nacademics, arts, literature, business, judiciary, administration, local bodies, farming,\\nhome makers, special children, media and above all from the youth and student\\ncommunity who are the future wealth of our country. During my interaction at\\nRashtrapati Bhavan in Delhi and at every state and union territory as well as through my\\nonline interactions, I have many unique experiences to share with you, which signify the\\nfollowing important messages:\\n\\n1. Accelerate development : Aspiration of the youth,\\n2. Empower villages,\\n3. Mobilize rural core competence for competitiveness,\\n4. Seed to Food: Backbone for agricultural growth\\n5. Defeat problems and succeed,\\n6. Overcome problems through partnership,\\n7. Courage in combating calamities,\\n8. Connectivity for societal transformation,\\n9. Defending the nation: Our pride and\\n10. Youth movement for Developed India 2020.\\n\\nNow let me share with you each of the messages.\\n\\nAccelerate Development: Aspiration of the youth\\nWhile there were many significant events during my tenure, a question from a little girl\\nAnukriti of Sri Sathya Sai Jagriti Vidya Mandir School, of Darwa village from Haryana,\\nduring children’s visit to Rashtrapati Bhavan on May 22, 2006, rings in my mind ever\\nafter.\\n\\nAnukriti asked me “why India cannot become a developed nation before the year 2020”.\\nI appreciated the question and said it was indeed a thoughtful question and assured her that\\nthat her dream would be taken to the highest institution of the nation and we would work for it to achieve before 2020. This question reflects how the desire to live in developed\\nIndia has entered into the minds of the youth. The same feelings are echoed by over\\nfifteen lakh youth, whom I have met so far and who represent the dream of the 540\\nmillion youth of the nation. The aspirations of the young to live in a prosperous, safe and\\nproud India should be the guiding factor in whatever profession we contribute.\\n\\nEmpower Villages\\nFriends, I recall my visit to Nagaland on 26th October 2002, soon after my assuming\\noffice as President. It was a unique experience for me at Khuza ma village to meet tribal\\nvillage council members and discuss with them the village progress and the dream of\\nvillage citizens. I was very happy to see the empowered village council functioning with\\nfinancial powers and taking decisions. I saw a prosperous village with fruits and vegetables production. However, there is a need for providing physical connectivity in\\nNagaland through quality roads for enabling faster movement of products from villages\\nto the market. That meeting gave me a powerful message about the transformation which\\ncan take place to the 600,000 villages of India, if all the villages are empowered to deal\\nwith their development and are well connected among themselves and with the urban\\nsocieties.\\n\\nMobilizing rural core competence for competitiveness\\nNow I would like to talk about the initiative of Periyar Maniammai College of\\nTechnology for Women, Vallam, Tanjore of Providing Urban Amenities in Rural Areas\\n(PURA) complex involving 65 villages with a population of 3 lakhs. This includes\\nprovision of three connectivities - physical, electronic and knowledge - leading to\\neconomic connectivity. Periyar PURA has health care centers, primary to post graduate\\nlevel education and vocational training centers. This has resulted in large-scale\\nemployment generation and creation of number of entrepreneurs with the active support\\nof 1000 self-help groups. Two hundred acres of waste land has been developed into a\\ncultivable land. The villagers are busy in cultivation, planting Jatropha, herbal and\\nmedicinal plants, power generation using bio-mass, food processing and above all\\nrunning marketing centers. It provides a sustainable economic development model for the\\nwhole region.\\n\\nDuring the last eight months, people of Periyar PURA villages technologically supported\\nby Periyar Maniammai College of Engineering for Women have worked with experts\\nfrom Japan External Trade Organisation (JETRO) on various products, for which core\\ncompetence and raw material are available in Thanjavur district. They developed\\ninternationally competitive prototypes for 55 lifestyle products with support of JETRO\\nspecialists and feedback from exhibitions at Delhi and Tokyo. This cooperative venture\\nhas enhanced the innovative ability of the people of all the 65 villages enabling them to\\ndevelop and produce internationally acceptable products. I have seen similar type of\\nPURA being established in many states. The whole country needs 7000 PURA to\\nbridging the rural – urban divide.\\n\\nSeed to Food: Backbone for agricultural growth\\nLet me now share with you the enriching experience I had, while meeting more than\\n6000 farmers from different States and Union Territories visiting Rashtrapati Bhavan.\\nThey evinced keen interest in the Mughal Gardens, the Herbal Gardens, the Spiritual\\nGarden, the Musical Garden, the Bio-diesel garden and the Nutrition Garden and interact\\nwith the Horticultural specialists. Recently, during my address to the agricultural\\nscientists while participating in a National Symposium on “Agriculture Cannot Wait”, I\\nsummarized the many practical suggestions given by farmers. We have to double the\\nagricultural production with reduced land, reduced water resources and reduced\\nmanpower and improve the economic conditions of the nation through the principle of\\n“Seed to Food” since agriculture is the backbone of the nation. We should empower the\\nfarmers to protect and nurture the fertile land for second green revolution. Meeting the\\nScientists and the Farmers has given me the confidence that the nation is poised to increase the agricultural GDP growth by at least 4% per annum through the partnership of farmers and agricultural scientists and industries particularly for value addition.\\n\\nDefeat the problems and succeed\\nOn the evening of February 24, 2007, at Coimbatore, I had a very beautiful experience.\\nAs I got ready for meeting the first person out of twenty appointments, a wheelchair was\\nin sight with a smiling person probably in his late fifties; unfortunately he has no hands\\nand legs. His radiant face was revealing his happy state of mind. He introduced himself\\nas Vidwan Coimbatore SR Krishna Murthy. I greeted him and asked him how this had\\nhappened. He smilingly said that it was from birth. He thanked God, his parents,\\nteachers and many others for giving him confidence, training and help. I asked him, what\\nI could do for him? He said, “I don’t need anything from you. I would like to sing in front\\nof you”. I readily agreed. He sang melodiously the Saint Thyagraja’s pancha ratna kriti\\nentharo mahanubavulu in Sriragam giving me a glimpse of his talent. I was quite touched.\\nWhat is the message? Despite being physically challenged, the latent talent of music\\ncould blossom in this person with his positive attitude and perseverance, encouraged by the parents, teachers, academics and rasikas. Now he wants to give, give and give his art to inspire others. Of course, by his merit of music, in July 2007, he performed in the Rashtrapati Bhavan art theatre.\\n\\nOvercome the impact of disaster through partnership\\nI had the opportunity to experience the Indomitable Spirit of the people and children of\\nJammu & Kashmir even as they were just recovering from the devastating earthquake in\\n2005. I visited Urusa village on 26th November 2005 which has been adopted by the\\nWestern Air Command, Air Force for providing relief and medical aid to the residents of\\nthat area. When I went there, I found that the school building had been severely damaged.\\nI met all the school children and the village citizen of Urusa. The villagers apprised me of\\ntheir losses and had all praise for Army and Air Force role in rescue and relief operations\\nalong with state government. I appreciate the courage of the people of Urusa in defeating\\ntheir problems. They have actually become the master of the problem rather than\\nallowing problems to become their master. Despite the severe loss due to the earthquake, the children and the members of the village participated in the relief operation with the Armed Forces bravely and were smiling when I went to meet them. They all wanted to return to their normal life as quickly as possible. The efforts of Armed Forces and the civil society have helped in accelerating the process of rehabilitation and reconstruction. This spirit should be carried forward to combat natural calamities through synergy in relief operations.\\n\\nConnectivity for societal transformation\\nLet me share an experience about technology application for improving societal\\ntransformation. The experience of using the information and communication technology\\nfor improving societal transformation was visible during the last visit of President of\\nFinland to India in October 2006. I had the privilege of hosting a discussion session\\nwith the President of Finland at Rashtrapati Bhavan. He shared with us the model of\\nuniversal health care system of Finland. He said that in Finland, through tele-medicine\\napproach, each patient has a direct connectivity with the medical center with the help of\\ntelemedicine technology. I felt that our country has a unique opportunity to adopt\\ninformation technology tools like mobile phones and low cost laptops and internet\\ntechnology to improve the health care services to the citizens in remote and far-flung\\nareas. I have seen similar projects in operation like “tele-medicine project” at some of the\\nvillages, particularly at Bhathra Village of Chhattisgarh, where the villagers are now able\\nto interact with specialists for treatment of patients. The experience in applying the\\ntechnology to rural health care systems is being discussed in many States and is being\\nreplicated.\\n\\nDefending the nation: Our pride\\nDuring my tenure, I had the opportunity to interact with the Armed Forces and\\nParamveer and Mahavir Chakra awardees. These war heroes have given their supreme\\nsacrifices to protect the unity, integrity and sovereignty of our nation. The courage,\\nvalor and patriotism of these soldiers must be a source of inspiration to every Indian.\\nThe bravery of our armed forces, which exhibited in protecting the nation, is unparalleled\\nand praiseworthy. The experience of meeting these national heroes was a very enriching\\nand humbling experience.\\n\\nYouth movement for Developed India 2020\\nI would like to close by talking about the youth movement. During the last five years, I\\nhave met the youth and students of all categories from all parts of the country. I have\\nfound their enthusiasm, courage, innovation and creativity in building a Developed India\\nby the year 2020. It is our primary responsibility to facilitate their efforts and to\\ncontinuously inspire and involve them in our journey of nation building. The youth\\nmovement should focus on improving the quality of education, ensuring better health\\ncare, strengthening of democratic institutions and empowering people to fight\\ncorruption. I am confident that with the collective efforts of the youth, the nation will\\nachieve the goal of Developed India 2020.\\n\\nI thank all of you for the support, encouragement and cooperation during my tenure.\\nI shall cherish these moments of my life forever and will always be available for any\\nsupport or guidance you may need.\\n\\nThank you.'"
      ]
     },
     "execution_count": 41,
     "metadata": {},
     "output_type": "execute_result"
    }
   ],
   "source": [
    "text"
   ]
  },
  {
   "cell_type": "code",
   "execution_count": 42,
   "metadata": {},
   "outputs": [],
   "source": [
    "template = '''Write a concise and short summary of the following speech.\n",
    "Speech: `{text}`\n",
    "'''\n",
    "prompt = PromptTemplate(\n",
    "    input_variables=['text'],\n",
    "    template=template\n",
    ")"
   ]
  },
  {
   "cell_type": "code",
   "execution_count": 43,
   "metadata": {},
   "outputs": [],
   "source": [
    "chain = load_summarize_chain(\n",
    "    llm,\n",
    "    chain_type='stuff',\n",
    "    prompt=prompt,\n",
    "    verbose=False\n",
    ")\n",
    "output_summary = chain.run(docs)"
   ]
  },
  {
   "cell_type": "code",
   "execution_count": 44,
   "metadata": {},
   "outputs": [
    {
     "data": {
      "text/plain": [
       "'In his farewell speech, former Indian President A. P. J. Abdul Kalam emphasized 10 key messages for India\\'s development. These include empowering villages, mobilizing rural competence, fostering agricultural growth through \"Seed to Food,\" and promoting connectivity for societal transformation. Kalam also highlighted the importance of overcoming challenges with courage and partnership, defending the nation with pride, and initiating a youth movement to achieve \"Developed India 2020.\" He expressed gratitude for the support he received and pledged his continued availability for guidance and support.'"
      ]
     },
     "execution_count": 44,
     "metadata": {},
     "output_type": "execute_result"
    }
   ],
   "source": [
    "output_summary"
   ]
  },
  {
   "cell_type": "markdown",
   "metadata": {},
   "source": [
    "## Summarizing Large Documents Using Map Reduce"
   ]
  },
  {
   "cell_type": "code",
   "execution_count": 45,
   "metadata": {},
   "outputs": [],
   "source": [
    "from langchain.text_splitter import RecursiveCharacterTextSplitter"
   ]
  },
  {
   "cell_type": "code",
   "execution_count": 46,
   "metadata": {},
   "outputs": [],
   "source": [
    "# llm = ChatOpenAI(temperature=0, model_name='gpt-3.5-turbo')"
   ]
  },
  {
   "cell_type": "code",
   "execution_count": 47,
   "metadata": {},
   "outputs": [],
   "source": [
    "## Splittting the text\n",
    "text_splitter = RecursiveCharacterTextSplitter(chunk_size=10000, chunk_overlap=20)\n",
    "chunks = text_splitter.create_documents([text])"
   ]
  },
  {
   "cell_type": "code",
   "execution_count": 48,
   "metadata": {},
   "outputs": [],
   "source": [
    "chain = load_summarize_chain(\n",
    "    llm,\n",
    "    chain_type='map_reduce',\n",
    "    verbose=False,\n",
    ")\n",
    "summary = chain.run(chunks)"
   ]
  },
  {
   "cell_type": "code",
   "execution_count": 49,
   "metadata": {},
   "outputs": [
    {
     "data": {
      "text/plain": [
       "'Former President A.P.J. Abdul Kalam\\'s farewell address focused on accelerating development, empowering villages, enhancing agricultural productivity, and fostering partnerships. He stressed the importance of technology, particularly in healthcare, and the role of youth in achieving a \"Developed India 2020.\" His message emphasized positive attitudes, innovation, and collaboration in overcoming challenges and transforming society.'"
      ]
     },
     "execution_count": 49,
     "metadata": {},
     "output_type": "execute_result"
    }
   ],
   "source": [
    "summary"
   ]
  },
  {
   "cell_type": "markdown",
   "metadata": {},
   "source": [
    "## Map Reduce With Custom Prompts"
   ]
  },
  {
   "cell_type": "code",
   "execution_count": 50,
   "metadata": {},
   "outputs": [],
   "source": [
    "chunks_prompt=\"\"\"\n",
    "Please summarize the below speech:\n",
    "Speech:`{text}'\n",
    "Summary:\n",
    "\"\"\"\n",
    "map_prompt_template=PromptTemplate(input_variables=['text'],\n",
    "                                    template=chunks_prompt)"
   ]
  },
  {
   "cell_type": "code",
   "execution_count": 51,
   "metadata": {},
   "outputs": [],
   "source": [
    "final_combine_prompt='''\n",
    "Provide a final summary of the entire speech with these important points.\n",
    "Add a Generic Motivational Title,\n",
    "Start the precise summary with an introduction and provide the\n",
    "summary in number points for the speech.\n",
    "Speech: `{text}`\n",
    "'''\n",
    "final_combine_prompt_template=PromptTemplate(input_variables=['text'],\n",
    "                                             template=final_combine_prompt)"
   ]
  },
  {
   "cell_type": "code",
   "execution_count": 52,
   "metadata": {},
   "outputs": [],
   "source": [
    "summary_chain = load_summarize_chain(\n",
    "    llm=llm,\n",
    "    chain_type='map_reduce',\n",
    "    map_prompt=map_prompt_template,\n",
    "    combine_prompt=final_combine_prompt_template,\n",
    "    verbose=False\n",
    ")\n",
    "output = summary_chain.run(chunks)"
   ]
  },
  {
   "cell_type": "code",
   "execution_count": 53,
   "metadata": {},
   "outputs": [
    {
     "data": {
      "text/plain": [
       "\"**Aspiring for a Developed Nation: A Summary of Former President A.P.J. Abdul Kalam's Visionary Speech**\\n\\nIn his departing speech, former President A.P.J. Abdul Kalam outlined a transformative vision for India's future, emphasizing the following key points:\\n\\n1. **Aspiring Youth:** The youth's aspirations for a developed India by 2020 must inspire our efforts.\\n2. **Empowering Villages:** Rural areas must be empowered to lead their own development and connect with urban centers.\\n3. **Rural Core Competence:** Initiatives like PURA can harness rural strengths to create globally competitive products.\\n4. **Seed to Food:** Agriculture is vital, and farmers must be empowered to increase production while preserving resources.\\n5. **Overcoming Adversity:** Physical challenges can be overcome with a positive mindset and support.\\n6. **Disaster Resilience:** Partnerships between the Armed Forces, civil society, and citizens can harness community strength during disasters.\\n7. **Connectivity for Transformation:** Connectivity in all forms is essential for village empowerment and societal progress.\\n8. **National Pride:** India's security and integrity must be upheld.\\n9. **Youth Movement 2020:** The youth are the future and must be mobilized to achieve a developed India by 2020.\\n10. **Technology for Progress:** Telemedicine and IT tools can enhance healthcare access in rural areas.\\n11. **Defending the Nation:** The Armed Forces protect India's sovereignty and inspire national pride.\\n12. **Youth Movement for Progress:** Youth enthusiasm and creativity are crucial for improving education, healthcare, democracy, and combating corruption.\""
      ]
     },
     "execution_count": 53,
     "metadata": {},
     "output_type": "execute_result"
    }
   ],
   "source": [
    "output"
   ]
  },
  {
   "cell_type": "markdown",
   "metadata": {},
   "source": [
    "## RefineChain For Summarization"
   ]
  },
  {
   "cell_type": "code",
   "execution_count": 54,
   "metadata": {},
   "outputs": [],
   "source": [
    "chain = load_summarize_chain(\n",
    "    llm=llm,\n",
    "    chain_type='refine',\n",
    "    verbose=False\n",
    ")\n",
    "output_summary = chain.run(chunks)"
   ]
  },
  {
   "cell_type": "code",
   "execution_count": 55,
   "metadata": {},
   "outputs": [
    {
     "data": {
      "text/plain": [
       "'In his departing speech, former President A. P. J. Abdul Kalam emphasized ten key messages for India\\'s development:\\n1. Accelerate development through youth aspirations.\\n2. Empower villages through financial autonomy and infrastructure.\\n3. Mobilize rural core competencies for competitiveness.\\n4. Enhance agricultural growth through \"Seed to Food\" principles.\\n5. Overcome challenges through determination and positive attitudes.\\n6. Foster partnerships to mitigate disaster impacts.\\n7. Ensure national security and pride.\\n8. Improve societal transformation through connectivity.\\n9. Encourage youth movements for a developed India by 2020.\\n10. Promote entrepreneurship through PURA complexes, bridging the rural-urban divide.\\n**Additional points from the new context:**\\n11. Utilize technology for societal transformation, particularly in healthcare.\\n12. Defend the nation and honor the sacrifices of war heroes.\\n13. Empower the youth to drive India\\'s progress towards becoming a Developed India by 2020.'"
      ]
     },
     "execution_count": 55,
     "metadata": {},
     "output_type": "execute_result"
    }
   ],
   "source": [
    "output_summary"
   ]
  }
 ],
 "metadata": {
  "kernelspec": {
   "display_name": "Python 3",
   "language": "python",
   "name": "python3"
  },
  "language_info": {
   "codemirror_mode": {
    "name": "ipython",
    "version": 3
   },
   "file_extension": ".py",
   "mimetype": "text/x-python",
   "name": "python",
   "nbconvert_exporter": "python",
   "pygments_lexer": "ipython3",
   "version": "3.11.9"
  },
  "orig_nbformat": 4
 },
 "nbformat": 4,
 "nbformat_minor": 2
}
